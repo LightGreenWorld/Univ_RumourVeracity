{
 "cells": [
  {
   "cell_type": "markdown",
   "id": "d83f8d8e-bc6b-4c83-8110-578786e8f47e",
   "metadata": {
    "tags": []
   },
   "source": [
    "# ML4NLU Final Project\n",
    "## Rumour Veracity Prediction\n",
    "by Sarah Ackerschewski, Uygar Navruz, Hyunjun Park"
   ]
  },
  {
   "cell_type": "markdown",
   "id": "514ef154-f01b-4f31-ade6-b38f04ca9a20",
   "metadata": {},
   "source": [
    "This is a Notebook containing code for a rumour veracity task adapted from SemEval2017 Task 8 SubtaskB and SemEval2019 Task 7 SubtaskB. The data is taken from their [website](https://alt.qcri.org/semeval2017/task8/) and from [the Pheme project](https://figshare.com/articles/dataset/RumourEval_2019_data/8845580)"
   ]
  },
  {
   "cell_type": "code",
   "execution_count": 1,
   "id": "6c8201b3-ef4b-49b3-bbd4-e673e7055fd2",
   "metadata": {
    "collapsed": true,
    "tags": []
   },
   "outputs": [
    {
     "name": "stderr",
     "output_type": "stream",
     "text": [
      "C:\\Users\\Lenovo\\anaconda3\\envs\\rumoureval\\lib\\site-packages\\tqdm\\auto.py:22: TqdmWarning: IProgress not found. Please update jupyter and ipywidgets. See https://ipywidgets.readthedocs.io/en/stable/user_install.html\n",
      "  from .autonotebook import tqdm as notebook_tqdm\n"
     ]
    }
   ],
   "source": [
    "import os\n",
    "import json\n",
    "import pandas as pd\n",
    "import numpy as np\n",
    "import re\n",
    "import pickle\n",
    "import spacy\n",
    "import random\n",
    "import seaborn as sns \n",
    "\n",
    "from sklearn.model_selection import train_test_split\n",
    "from sklearn.preprocessing import LabelEncoder\n",
    "from sklearn.feature_extraction.text import TfidfVectorizer\n",
    "from nltk.corpus import stopwords\n",
    "from sklearn.svm import SVC\n",
    "from sklearn.model_selection import GridSearchCV\n",
    "\n",
    "import tensorflow\n",
    "from tensorflow import keras\n",
    "from tensorflow.keras.models import Sequential\n",
    "from tensorflow.keras.layers import TextVectorization, Embedding, Dense, LSTM\n",
    "\n",
    "from sklearn.metrics import precision_recall_fscore_support, accuracy_score, mean_squared_error\n",
    "from math import sqrt"
   ]
  },
  {
   "cell_type": "code",
   "execution_count": 2,
   "id": "e1af06ef-8feb-4271-a1f9-70b83bdc2ff3",
   "metadata": {
    "tags": []
   },
   "outputs": [],
   "source": [
    "# load spacy language model for lemmatization\n",
    "#!python -m spacy download en_core_web_sm\n",
    "nlp = spacy.load('en_core_web_sm')"
   ]
  },
  {
   "cell_type": "code",
   "execution_count": 3,
   "id": "4fc92d7a-d001-4dbe-a9a5-f43c6d9c67bd",
   "metadata": {},
   "outputs": [],
   "source": [
    "def read_tweets(folder):\n",
    "    tweet_dict = {}\n",
    "    topics = os.listdir(folder)\n",
    "    for topic in topics:\n",
    "        tweets = os.listdir(folder + \"/\" + topic)\n",
    "        \n",
    "        for tweet in tweets:\n",
    "            tmp_path = folder +\"/\"+ topic +\"/\" + tweet\n",
    "            path = tmp_path + \"/source-tweet/\"+tweet+\".json\"\n",
    "            f = open(path, \"r\")\n",
    "            src_tweet = json.loads(f.read())\n",
    "            key =str(src_tweet[\"id\"]) +\"_\" + topic\n",
    "            tweet_dict[key] = src_tweet[\"text\"]\n",
    "\n",
    "    # add labels directly\n",
    "    labels = {}\n",
    "    f1 = open(\"original_data/semeval2017-task8-dataset/traindev/rumoureval-subtaskB-dev.json\",\"r\")\n",
    "    dev = json.loads(f1.read())\n",
    "    f2 = open(\"original_data/semeval2017-task8-dataset/traindev/rumoureval-subtaskB-train.json\",\"r\")\n",
    "    train = json.loads(f2.read())\n",
    "    for id, label in dev.items():\n",
    "        res = dict(filter(lambda item: id in item[0], tweet_dict.items()))\n",
    "        labels[res.popitem()[0]] = label\n",
    "    for id, label in train.items():\n",
    "        res = dict(filter(lambda item: id in item[0], tweet_dict.items()))\n",
    "        labels[res.popitem()[0]] = label\n",
    "    \n",
    "    d = {\"id\":tweet_dict.keys(), \"text\":tweet_dict.values()}\n",
    "    tweet_df = pd.DataFrame(d)\n",
    "    \n",
    "    tweet_df[\"label\"] = tweet_df[\"id\"].map(labels)\n",
    "    tweet_df.to_csv(\"merged_data/tweets.csv\",sep=',')"
   ]
  },
  {
   "cell_type": "code",
   "execution_count": 4,
   "id": "ba1d5f03-f3a2-410b-9ef5-a065145ffec3",
   "metadata": {},
   "outputs": [],
   "source": [
    "def read_tweets19(folder):\n",
    "    tweet_dict = {}\n",
    "    topics = os.listdir(folder)\n",
    "    tweets17 = pd.read_csv(\"merged_data/tweets.csv\")\n",
    "    for topic in topics:\n",
    "        tweets = os.listdir(folder + \"/\" + topic)\n",
    "        \n",
    "        f1 = open(\"original_data/rumoureval-2019-training-data/train-key.json\", \"r\")\n",
    "        train_labels = json.loads(f1.read())\n",
    "        train_labels = train_labels[\"subtaskbenglish\"]\n",
    "        \n",
    "        f2 = open(\"original_data/rumoureval-2019-training-data/dev-key.json\", \"r\")\n",
    "        dev_labels = json.loads(f2.read())\n",
    "        dev_labels = dev_labels[\"subtaskbenglish\"]\n",
    "\n",
    "        for tweet in tweets:\n",
    "            tmp_path = folder +\"/\"+ topic +\"/\" + tweet\n",
    "            path = tmp_path + \"/source-tweet/\"+tweet+\".json\"\n",
    "            f = open(path, \"r\")\n",
    "            src_tweet = json.loads(f.read())\n",
    "            key =str(src_tweet[\"id\"]) +\"_\" + topic\n",
    "         \n",
    "            if str(src_tweet[\"id\"]) in train_labels.keys():\n",
    "                label = train_labels[str(src_tweet[\"id\"])]\n",
    "            else:\n",
    "                label = dev_labels[str(src_tweet[\"id\"])]\n",
    "                \n",
    "            if key not in tweets17[\"id\"]:\n",
    "                row = pd.DataFrame({\"id\": [key], \"text\":[src_tweet[\"text\"]], \"label\":[label]})\n",
    "                tweets17 = pd.concat([tweets17, row])\n",
    "                \n",
    "    tweets17.drop([\"Unnamed: 0\"], axis=1, inplace=True)\n",
    "    tweets17.to_csv(\"merged_data/tweets17-19.csv\", sep = \",\")   "
   ]
  },
  {
   "cell_type": "code",
   "execution_count": 5,
   "id": "6451a361-fd6e-4835-a90b-3aa310713be0",
   "metadata": {},
   "outputs": [],
   "source": [
    "def read_test_data19():\n",
    "    folder = \"original_data/rumoureval-2019-test-data/twitter-en-test-data/\"\n",
    "    topics = os.listdir(folder)\n",
    "    \n",
    "    test_df = pd.DataFrame(columns=['id','text','label'])\n",
    "    \n",
    "    for topic in topics:\n",
    "        tweets = os.listdir(folder + \"/\" + topic)\n",
    "        \n",
    "        f1 = open(\"original_data/final-eval-key.json\", \"r\")\n",
    "        labels = json.loads(f1.read())\n",
    "        labels = labels[\"subtaskbenglish\"]\n",
    "        \n",
    "        for tweet in tweets:\n",
    "            tmp_path = folder +\"/\"+ topic +\"/\" + tweet\n",
    "            path = tmp_path + \"/source-tweet/\"+tweet+\".json\"\n",
    "            f = open(path, \"r\")\n",
    "            src_tweet = json.loads(f.read())\n",
    "            key =str(src_tweet[\"id\"]) +\"_\" + topic\n",
    "            if str(src_tweet[\"id\"]) in labels.keys():\n",
    "                label = labels[str(src_tweet[\"id\"])]\n",
    "        \n",
    "            row = pd.DataFrame({\"id\": [key], \"text\":[src_tweet[\"text\"]], \"label\":[label]})\n",
    "            test_df = pd.concat([test_df, row])\n",
    "    \n",
    "    test_df.to_csv(\"merged_data/test_tweets.csv\", sep=\",\")\n",
    "\n",
    "    return test_df\n",
    "        \n",
    "    "
   ]
  },
  {
   "cell_type": "code",
   "execution_count": 6,
   "id": "fb31b052-0f96-4bde-995f-bf3d9741c704",
   "metadata": {},
   "outputs": [],
   "source": [
    "# split into train, dev, test\n",
    "def split_data(csv=\"merged_data/tweets17-19.csv\"):\n",
    "    df = pd.read_csv(csv)\n",
    "    df = df.sample(frac=1)\n",
    "    X_train, X_test, y_train, y_test = train_test_split(df.text, df.label, test_size=0.20, random_state=1)\n",
    "    X_dev, X_test, y_dev, y_test = train_test_split(X_test, y_test, test_size=0.50, random_state=1)\n",
    "    return X_train, X_dev, X_test, y_train, y_dev, y_test"
   ]
  },
  {
   "cell_type": "markdown",
   "id": "f52df94e-4377-4f4c-8c35-25561d517fe2",
   "metadata": {
    "tags": []
   },
   "source": [
    "### Preprocessing\n",
    "#### Cleaning"
   ]
  },
  {
   "cell_type": "code",
   "execution_count": 7,
   "id": "7d202f27-92f3-42bd-87be-2f6c6724ea11",
   "metadata": {
    "tags": []
   },
   "outputs": [],
   "source": [
    "def clean(texts):\n",
    "    \n",
    "    new_texts = []\n",
    "    for text in texts:\n",
    "        #remove punctiuation\n",
    "        text = re.sub(\"[.,!?-]\", '', text.lower())\n",
    "        text = re.sub(\"\\\"\", '', text)\n",
    "        text = re.sub(\"#:\", '', text)\n",
    "        #remove URLs\n",
    "        text = re.sub(r'http\\S+', '', text)\n",
    "        \n",
    "        #remove stopwords\n",
    "        words = text.split()\n",
    "        stop_words = set(stopwords.words(\"english\"))\n",
    "        text = [word for word in words if word not in stop_words]\n",
    "        \n",
    "        #lemmatize\n",
    "        text= [word.lemma_ for word in nlp(\" \".join(text))]\n",
    "        \n",
    "        new_texts.append(\" \".join(text))\n",
    "        \n",
    "    return new_texts"
   ]
  },
  {
   "cell_type": "markdown",
   "id": "c4deadbf-314a-4657-b031-6f5095f80865",
   "metadata": {},
   "source": [
    "#### Vectorization"
   ]
  },
  {
   "cell_type": "code",
   "execution_count": 8,
   "id": "500a5286-5167-4597-8e7b-15b8cf2554a9",
   "metadata": {
    "tags": []
   },
   "outputs": [],
   "source": [
    "def vectorize(train, dev, test):\n",
    "    vectorizer = TfidfVectorizer()\n",
    "    vectorizer.fit(train)\n",
    "    \n",
    "    train = vectorizer.transform(train)\n",
    "    dev = vectorizer.transform(dev)\n",
    "    test = vectorizer.transform(test)\n",
    "    \n",
    "    \n",
    "    return train, dev, test, vectorizer"
   ]
  },
  {
   "cell_type": "markdown",
   "id": "d2082d5e-d17d-4f52-b43d-90ff61279197",
   "metadata": {
    "tags": []
   },
   "source": [
    "### Model"
   ]
  },
  {
   "cell_type": "code",
   "execution_count": 9,
   "id": "41783848-af98-4747-8308-d3497d099694",
   "metadata": {},
   "outputs": [],
   "source": [
    "def train_SVM(X_train, y_train):\n",
    "    svm = SVC()\n",
    "    # do Gridsearch to get the best parameters\n",
    "    param ={\"kernel\":(\"linear\", \"rbf\", \"sigmoid\"), \"C\":[0.1, 0.5, 1, 5, 10, 15]}\n",
    "    model = GridSearchCV(svm, param)\n",
    "    \n",
    "    # fit model on best parameter\n",
    "    model.fit(X_train, y_train)\n",
    "    \n",
    "    return model"
   ]
  },
  {
   "cell_type": "markdown",
   "id": "85287bb5-4f86-4690-8176-c92d19cbb20b",
   "metadata": {},
   "source": [
    "#### prediction function"
   ]
  },
  {
   "cell_type": "code",
   "execution_count": 10,
   "id": "4e0187cd-b72f-4aeb-bd43-d08a5f4ebc28",
   "metadata": {},
   "outputs": [],
   "source": [
    "def make_predictions(X_test, vectorizer, model):\n",
    "    X_test = vectorizer(X_test)\n",
    "    \n",
    "    return model.predict(X_test)"
   ]
  },
  {
   "cell_type": "markdown",
   "id": "5b6b632e-9b31-4582-8db8-b5c3fa4185fb",
   "metadata": {},
   "source": [
    "### Evaluation"
   ]
  },
  {
   "cell_type": "code",
   "execution_count": 11,
   "id": "f73061ca-2c35-49c4-8018-843127d95cd9",
   "metadata": {},
   "outputs": [],
   "source": [
    "def evaluate(y_pred, y_test):\n",
    "    prec, recall, f1, _ = precision_recall_fscore_support(y_test, y_pred, average='macro', labels=np.unique(y_pred))\n",
    "    return (prec, recall, f1)"
   ]
  },
  {
   "cell_type": "markdown",
   "id": "a35ee0e3-7907-4107-aa31-79ac6a30fa18",
   "metadata": {
    "tags": []
   },
   "source": [
    "<br/>\n",
    " <br/>\n",
    " <br/>\n",
    " \n",
    "### Read data\n",
    "Combine data from Semeval17 and Semeval19 & read test data from 2019 with new topics"
   ]
  },
  {
   "cell_type": "code",
   "execution_count": 12,
   "id": "631179f3-2054-46bd-81b1-686bec8d43ff",
   "metadata": {
    "tags": []
   },
   "outputs": [],
   "source": [
    "read_tweets(\"original_data/semeval2017-task8-dataset/rumoureval-data\")\n",
    "read_tweets19(\"original_data/rumoureval-2019-training-data/twitter-english\")\n",
    "test_df = read_test_data19()"
   ]
  },
  {
   "cell_type": "markdown",
   "id": "c69e7c84-af7e-4bf5-a45a-120acaa8d6db",
   "metadata": {
    "tags": []
   },
   "source": [
    "### Split into training, development and test set\n",
    "Because the test data is not available, we combined the given train and dev data and split the data on our own"
   ]
  },
  {
   "cell_type": "code",
   "execution_count": 13,
   "id": "b7110470-e10f-45c6-a641-9aa2b29dadf3",
   "metadata": {
    "tags": []
   },
   "outputs": [],
   "source": [
    "X_train, X_dev, X_test, y_train, y_dev, y_test = split_data()"
   ]
  },
  {
   "cell_type": "code",
   "execution_count": 14,
   "id": "dc795ce8-5fc1-4b02-b625-e7867661e552",
   "metadata": {},
   "outputs": [
    {
     "name": "stdout",
     "output_type": "stream",
     "text": [
      "X_train 497\n",
      "X_dev 62\n",
      "X_test 63\n"
     ]
    }
   ],
   "source": [
    "print(\"X_train\",len(X_train))\n",
    "print(\"X_dev\",len(X_dev))\n",
    "print(\"X_test\",len(X_test))"
   ]
  },
  {
   "cell_type": "markdown",
   "id": "20a1e52d-5559-4b3a-8cfa-6d2b68265971",
   "metadata": {
    "tags": []
   },
   "source": [
    "### Statistics about topic variation in the different sets\n",
    "\n",
    "\n",
    "#### Class Distribution"
   ]
  },
  {
   "cell_type": "code",
   "execution_count": 15,
   "id": "9f77e9f7-424b-4370-a281-51d992dca3d2",
   "metadata": {
    "tags": []
   },
   "outputs": [
    {
     "data": {
      "image/png": "[encoded data removed]",
      "text/plain": [
       "<Figure size 1000x400 with 1 Axes>"
      ]
     },
     "metadata": {},
     "output_type": "display_data"
    }
   ],
   "source": [
    "train_stats = y_train.value_counts()\n",
    "train_stats = train_stats.rename(\"train\")\n",
    "dev_stats = y_dev.value_counts()\n",
    "dev_stats =dev_stats.rename(\"dev\")\n",
    "test_stats = y_test.value_counts()\n",
    "test_stats = test_stats.rename(\"test\")\n",
    "\n",
    "stats_df = pd.concat([train_stats, dev_stats, test_stats], axis=1)\n",
    "\n",
    "color_dict = {\"train\": \"Lightsteelblue\", \"dev\": \"plum\", \"test\":\"LightPink\"}\n",
    "plt = stats_df.plot(kind=\"bar\", color=color_dict, figsize=(10, 4))\n",
    "plt.figure.savefig('class_distribution.png', bbox_inches=\"tight\")"
   ]
  },
  {
   "cell_type": "markdown",
   "id": "46c4678f-3055-44dd-b345-6e4a65ae9cd1",
   "metadata": {},
   "source": [
    "#### Topic Distribution"
   ]
  },
  {
   "cell_type": "code",
   "execution_count": 16,
   "id": "05f95728-dfdc-417a-bad0-f0cd42a319b5",
   "metadata": {
    "tags": []
   },
   "outputs": [
    {
     "data": {
      "image/png": "[encoded data removed]",
      "text/plain": [
       "<Figure size 1000x400 with 1 Axes>"
      ]
     },
     "metadata": {},
     "output_type": "display_data"
    }
   ],
   "source": [
    "tweet_df = pd.read_csv(\"merged_data/tweets17-19.csv\")\n",
    "id_text_dict = dict(zip(tweet_df.id, tweet_df.text))\n",
    "id_text_dict = {v: k for k, v in id_text_dict.items()}\n",
    "\n",
    "\n",
    "X_train_df = X_train.to_frame()\n",
    "X_train_df[\"id\"] = X_train_df[\"text\"].map(id_text_dict)\n",
    "tmp = X_train_df[\"id\"].str.split(\"_\", expand=True)\n",
    "X_train_df[\"topic\"] = tmp[1]\n",
    "topic_train = X_train_df.topic.value_counts()\n",
    "topic_train.rename(\"train\", inplace=True)\n",
    "\n",
    "X_dev_df = X_dev.to_frame()\n",
    "X_dev_df[\"id\"] = X_dev_df[\"text\"].map(id_text_dict)\n",
    "tmp = X_dev_df[\"id\"].str.split(\"_\", expand=True)\n",
    "X_dev_df[\"topic\"] = tmp[1]\n",
    "topic_dev = X_dev_df.topic.value_counts()\n",
    "topic_dev.rename(\"dev\", inplace=True)\n",
    "\n",
    "X_test_df = X_test.to_frame()\n",
    "X_test_df.rename(columns={0: \"text\"}, inplace=True)\n",
    "X_test_df[\"id\"] = X_test_df[\"text\"].map(id_text_dict)\n",
    "tmp = X_test_df[\"id\"].str.split(\"_\", expand=True)\n",
    "X_test_df[\"topic\"] = tmp[1]\n",
    "topic_test = X_test_df.topic.value_counts()\n",
    "topic_test.rename(\"test\", inplace=True)\n",
    "\n",
    "topic_df = pd.concat([topic_train, topic_dev, topic_test], axis=1)\n",
    "plt = topic_df.plot(kind=\"bar\", color=color_dict, figsize=(10, 4))\n",
    "plt.figure.savefig('topic_distribution.png', bbox_inches=\"tight\")"
   ]
  },
  {
   "cell_type": "code",
   "execution_count": 17,
   "id": "d328f0ed-567b-4e5a-a9ae-7f8b059d7dcb",
   "metadata": {
    "tags": []
   },
   "outputs": [],
   "source": [
    "X_train_cleaned = clean(X_train)\n",
    "X_dev_cleaned = clean(X_dev)\n",
    "X_test_cleaned = clean(X_test)"
   ]
  },
  {
   "cell_type": "code",
   "execution_count": 18,
   "id": "298e2c98-4c04-44ac-a4ff-2e836ccfa525",
   "metadata": {
    "tags": []
   },
   "outputs": [],
   "source": [
    "X_train_tfidf, X_dev_tfidf, X_test_tfidf, vectorizer = vectorize(X_train, X_dev, X_test)"
   ]
  },
  {
   "cell_type": "markdown",
   "id": "445e0fc3-2cc5-4e01-b00c-4fcc0dee3a32",
   "metadata": {},
   "source": [
    "#### Encode the Labels"
   ]
  },
  {
   "cell_type": "code",
   "execution_count": 19,
   "id": "38075636-8461-4c9a-a9bd-a8cf4d8976e8",
   "metadata": {
    "tags": []
   },
   "outputs": [],
   "source": [
    "encoder = LabelEncoder()\n",
    "# true = 1, false = 0, unverified = 2\n",
    "y_train = encoder.fit_transform(y_train)\n",
    "y_dev = encoder.transform(y_dev)\n",
    "y_test = encoder.transform(y_test)\n"
   ]
  },
  {
   "cell_type": "markdown",
   "id": "a382479a-5221-41ef-b9b2-70b5b43487ee",
   "metadata": {
    "tags": []
   },
   "source": [
    "### Fine-tuning"
   ]
  },
  {
   "cell_type": "code",
   "execution_count": 20,
   "id": "b5661c1f-02b3-4368-b069-dbeea078c089",
   "metadata": {},
   "outputs": [
    {
     "name": "stdout",
     "output_type": "stream",
     "text": [
      "{'C': 5, 'kernel': 'sigmoid'}\n"
     ]
    }
   ],
   "source": [
    "# SVM\n",
    "clf = train_SVM(X_train_tfidf, y_train)\n",
    "print(clf.best_params_)"
   ]
  },
  {
   "cell_type": "code",
   "execution_count": 21,
   "id": "66d4a2fc-3402-490f-a29e-c658ee191abf",
   "metadata": {},
   "outputs": [
    {
     "name": "stdout",
     "output_type": "stream",
     "text": [
      "DEV SET: \n",
      "Accuracy = 0.9354838709677419,\n",
      "Precision = 0.9520833333333334,\n",
      "Recall = 0.9434343434343435,\n",
      "F1 = 0.9467485919098823\n"
     ]
    }
   ],
   "source": [
    "dev_pred = clf.predict(X_dev_tfidf)\n",
    "dev_prec, dev_rec, dev_f1 = evaluate(dev_pred, y_dev)\n",
    "dev_acc = accuracy_score(y_dev, dev_pred)\n",
    "print(f\"DEV SET: \\nAccuracy = {dev_acc},\\nPrecision = {dev_prec},\\nRecall = {dev_rec},\\nF1 = {dev_f1}\")"
   ]
  },
  {
   "cell_type": "markdown",
   "id": "7d73d5ec-3a09-4501-b292-1776334bef06",
   "metadata": {},
   "source": [
    "### Predict Test data"
   ]
  },
  {
   "cell_type": "code",
   "execution_count": 22,
   "id": "1ea18acc-cd81-47cd-b4b8-e71c3941bc15",
   "metadata": {},
   "outputs": [
    {
     "name": "stdout",
     "output_type": "stream",
     "text": [
      "TEST SET: \n",
      "Accuracy = 0.9365079365079365,\n",
      "Precision = 0.943030303030303,\n",
      "Recall = 0.943030303030303,\n",
      "F1 = 0.943030303030303,\n",
      "RMSE = 0.25197631533948484,\n",
      "Normalized Accuracy = 0.7005301173804824\n"
     ]
    }
   ],
   "source": [
    "test_pred = clf.predict(X_test_tfidf)\n",
    "test_prec, test_rec, test_f1 = evaluate(test_pred, y_test)\n",
    "test_acc = accuracy_score(y_test, test_pred)\n",
    "rmse = sqrt(mean_squared_error(y_test, test_pred))\n",
    "norm_acc = (1 - rmse)*test_acc\n",
    "print(f\"TEST SET: \\nAccuracy = {test_acc},\\nPrecision = {test_prec},\\nRecall = {test_rec},\\nF1 = {test_f1},\\nRMSE = {rmse},\\nNormalized Accuracy = {norm_acc}\")"
   ]
  },
  {
   "cell_type": "markdown",
   "id": "c2b69c0e-20cd-4a9b-8723-9c6855734525",
   "metadata": {},
   "source": [
    "### Predict Test data with new topics"
   ]
  },
  {
   "cell_type": "code",
   "execution_count": 23,
   "id": "021009a5-65ae-4a34-b073-0858e9a0b8b1",
   "metadata": {},
   "outputs": [],
   "source": [
    "# clean new test data\n",
    "X_test2 = test_df[\"text\"]\n",
    "X_test2_cleaned = clean(X_test2)"
   ]
  },
  {
   "cell_type": "code",
   "execution_count": 24,
   "id": "c272a9e9-ba6d-43ec-a0dc-127ec88b4489",
   "metadata": {},
   "outputs": [],
   "source": [
    "# vectorize new test data\n",
    "X_test2_tfidf = vectorizer.transform(X_test2_cleaned)"
   ]
  },
  {
   "cell_type": "code",
   "execution_count": 25,
   "id": "d88b26b0-04b0-4b45-89f5-16b4e2e75bfc",
   "metadata": {},
   "outputs": [],
   "source": [
    "# encode labels\n",
    "y_test2 = encoder.transform(test_df[\"label\"])"
   ]
  },
  {
   "cell_type": "code",
   "execution_count": 35,
   "id": "17613f35-42fe-4fc2-a659-628c86111133",
   "metadata": {},
   "outputs": [
    {
     "name": "stdout",
     "output_type": "stream",
     "text": [
      "2.TEST SET: \n",
      "Accuracy = 0.44642857142857145,\n",
      "Precision = 0.4210358056265984,\n",
      "Recall = 0.4585858585858586,\n",
      "RMSE = 1.0436885140144612,\n",
      "Normalized Accuracy = -0.01950380089931302,\n",
      "F1 = 0.39661344944363813\n"
     ]
    }
   ],
   "source": [
    "# make predictions\n",
    "test2_pred = clf.predict(X_test2_tfidf)\n",
    "test2_prec, test2_rec, test2_f1 = evaluate(test2_pred, y_test2)\n",
    "test2_acc = accuracy_score(y_test2, test2_pred) \n",
    "print(f\"2.TEST SET: \\nAccuracy = {test2_acc},\\nPrecision = {test2_prec},\\nRecall = {test2_rec},\\nRMSE = {rmse2},\\nNormalized Accuracy = {norm_acc2},\\nF1 = {test2_f1}\")"
   ]
  },
  {
   "cell_type": "markdown",
   "id": "58b71496-86cb-4d44-a2e6-6dc5cbec051f",
   "metadata": {},
   "source": [
    "### More stats"
   ]
  },
  {
   "cell_type": "markdown",
   "id": "7c2f02dc-d4e1-444e-8518-49204b151cba",
   "metadata": {},
   "source": [
    "#### Test Set"
   ]
  },
  {
   "cell_type": "code",
   "execution_count": 27,
   "id": "bf38847a-2983-4952-bb5b-8cf05aa4c2fb",
   "metadata": {},
   "outputs": [],
   "source": [
    "X_test_df[\"predictions\"] = test_pred\n",
    "X_test_df[\"true\"] = y_test\n",
    "X_test_df[\"label\"] = encoder.inverse_transform(y_test)\n",
    "X_test_df.drop(\"id\", axis=1, inplace=True)"
   ]
  },
  {
   "cell_type": "code",
   "execution_count": 28,
   "id": "e6113e70-1853-4bb8-a9ab-766b6dfbde28",
   "metadata": {},
   "outputs": [
    {
     "data": {
      "text/html": [
       "<div>\n",
       "<style scoped>\n",
       "    .dataframe tbody tr th:only-of-type {\n",
       "        vertical-align: middle;\n",
       "    }\n",
       "\n",
       "    .dataframe tbody tr th {\n",
       "        vertical-align: top;\n",
       "    }\n",
       "\n",
       "    .dataframe thead th {\n",
       "        text-align: right;\n",
       "    }\n",
       "</style>\n",
       "<table border=\"1\" class=\"dataframe\">\n",
       "  <thead>\n",
       "    <tr style=\"text-align: right;\">\n",
       "      <th></th>\n",
       "      <th>text</th>\n",
       "      <th>topic</th>\n",
       "      <th>predictions</th>\n",
       "      <th>true</th>\n",
       "      <th>label</th>\n",
       "    </tr>\n",
       "  </thead>\n",
       "  <tbody>\n",
       "    <tr>\n",
       "      <th>332</th>\n",
       "      <td>Rural region of northern France searched in hu...</td>\n",
       "      <td>charliehebdo</td>\n",
       "      <td>1</td>\n",
       "      <td>2</td>\n",
       "      <td>unverified</td>\n",
       "    </tr>\n",
       "    <tr>\n",
       "      <th>184</th>\n",
       "      <td>Statement from Ottawa Hospital: received 3 pat...</td>\n",
       "      <td>ottawashooting</td>\n",
       "      <td>1</td>\n",
       "      <td>2</td>\n",
       "      <td>unverified</td>\n",
       "    </tr>\n",
       "    <tr>\n",
       "      <th>379</th>\n",
       "      <td>Witness: Police allegedly stopped Mike Brown a...</td>\n",
       "      <td>ferguson</td>\n",
       "      <td>2</td>\n",
       "      <td>1</td>\n",
       "      <td>true</td>\n",
       "    </tr>\n",
       "    <tr>\n",
       "      <th>77</th>\n",
       "      <td>Witness: Police allegedly stopped Mike Brown a...</td>\n",
       "      <td>ferguson</td>\n",
       "      <td>2</td>\n",
       "      <td>1</td>\n",
       "      <td>true</td>\n",
       "    </tr>\n",
       "  </tbody>\n",
       "</table>\n",
       "</div>"
      ],
      "text/plain": [
       "                                                  text           topic  \\\n",
       "332  Rural region of northern France searched in hu...    charliehebdo   \n",
       "184  Statement from Ottawa Hospital: received 3 pat...  ottawashooting   \n",
       "379  Witness: Police allegedly stopped Mike Brown a...        ferguson   \n",
       "77   Witness: Police allegedly stopped Mike Brown a...        ferguson   \n",
       "\n",
       "     predictions  true       label  \n",
       "332            1     2  unverified  \n",
       "184            1     2  unverified  \n",
       "379            2     1        true  \n",
       "77             2     1        true  "
      ]
     },
     "execution_count": 28,
     "metadata": {},
     "output_type": "execute_result"
    }
   ],
   "source": [
    "wrong_pred_test = X_test_df.loc[~(X_test_df['predictions'] == X_test_df['true'])]\n",
    "wrong_pred_test.to_csv(\"results/misclassifications_test_set1.csv\", sep=\",\")\n",
    "wrong_pred_test"
   ]
  },
  {
   "cell_type": "markdown",
   "id": "cffbf418-cf2a-4dbc-9ab4-dfccdf149e6b",
   "metadata": {},
   "source": [
    "#### Second Test Set"
   ]
  },
  {
   "cell_type": "code",
   "execution_count": 30,
   "id": "8f6f6312-5e93-472f-a88a-bda1563d5eec",
   "metadata": {},
   "outputs": [],
   "source": [
    "X_test2_df = X_test2.to_frame()\n",
    "X_test2_df[\"predictions\"] = test2_pred\n",
    "X_test2_df[\"true\"] = y_test2\n",
    "X_test2_df[\"label\"] = encoder.inverse_transform(y_test2)\n"
   ]
  },
  {
   "cell_type": "code",
   "execution_count": 31,
   "id": "85ad650a-6bb9-42fd-a3e8-f4731ed148f6",
   "metadata": {},
   "outputs": [
    {
     "data": {
      "text/html": [
       "<div>\n",
       "<style scoped>\n",
       "    .dataframe tbody tr th:only-of-type {\n",
       "        vertical-align: middle;\n",
       "    }\n",
       "\n",
       "    .dataframe tbody tr th {\n",
       "        vertical-align: top;\n",
       "    }\n",
       "\n",
       "    .dataframe thead th {\n",
       "        text-align: right;\n",
       "    }\n",
       "</style>\n",
       "<table border=\"1\" class=\"dataframe\">\n",
       "  <thead>\n",
       "    <tr style=\"text-align: right;\">\n",
       "      <th></th>\n",
       "      <th>text</th>\n",
       "      <th>predictions</th>\n",
       "      <th>true</th>\n",
       "      <th>label</th>\n",
       "    </tr>\n",
       "  </thead>\n",
       "  <tbody>\n",
       "    <tr>\n",
       "      <th>0</th>\n",
       "      <td>#Breaking: Pentagon releases video of the “mot...</td>\n",
       "      <td>2</td>\n",
       "      <td>0</td>\n",
       "      <td>false</td>\n",
       "    </tr>\n",
       "    <tr>\n",
       "      <th>0</th>\n",
       "      <td>ICYMI: \"Rep Sheila Jackson Lee (D-Tx) Wants Hu...</td>\n",
       "      <td>2</td>\n",
       "      <td>1</td>\n",
       "      <td>true</td>\n",
       "    </tr>\n",
       "    <tr>\n",
       "      <th>0</th>\n",
       "      <td>In 2003, Houston U.S. Rep. Sheila Jackson Lee ...</td>\n",
       "      <td>2</td>\n",
       "      <td>1</td>\n",
       "      <td>true</td>\n",
       "    </tr>\n",
       "    <tr>\n",
       "      <th>0</th>\n",
       "      <td>Noah’s Ark Theme Park Destroyed in a Flood? ht...</td>\n",
       "      <td>1</td>\n",
       "      <td>0</td>\n",
       "      <td>false</td>\n",
       "    </tr>\n",
       "    <tr>\n",
       "      <th>0</th>\n",
       "      <td>My lasting impression of Barbara Bush was the ...</td>\n",
       "      <td>0</td>\n",
       "      <td>1</td>\n",
       "      <td>true</td>\n",
       "    </tr>\n",
       "    <tr>\n",
       "      <th>0</th>\n",
       "      <td>This is crazy! #CapeTown #capestorm #weatherfo...</td>\n",
       "      <td>1</td>\n",
       "      <td>0</td>\n",
       "      <td>false</td>\n",
       "    </tr>\n",
       "    <tr>\n",
       "      <th>0</th>\n",
       "      <td>Clinton camp delays Weather Channel ad buy aft...</td>\n",
       "      <td>0</td>\n",
       "      <td>1</td>\n",
       "      <td>true</td>\n",
       "    </tr>\n",
       "    <tr>\n",
       "      <th>0</th>\n",
       "      <td>Clinton camp delays Weather Channel ad buy aft...</td>\n",
       "      <td>0</td>\n",
       "      <td>1</td>\n",
       "      <td>true</td>\n",
       "    </tr>\n",
       "    <tr>\n",
       "      <th>0</th>\n",
       "      <td>Clinton camp delays Weather Channel ad buy aft...</td>\n",
       "      <td>0</td>\n",
       "      <td>1</td>\n",
       "      <td>true</td>\n",
       "    </tr>\n",
       "    <tr>\n",
       "      <th>0</th>\n",
       "      <td>REVERSING COURSE: Clinton camp delays Weather ...</td>\n",
       "      <td>0</td>\n",
       "      <td>1</td>\n",
       "      <td>true</td>\n",
       "    </tr>\n",
       "    <tr>\n",
       "      <th>0</th>\n",
       "      <td>Jim Bates actually lives in Puerto Rico\\nThey ...</td>\n",
       "      <td>1</td>\n",
       "      <td>2</td>\n",
       "      <td>unverified</td>\n",
       "    </tr>\n",
       "    <tr>\n",
       "      <th>0</th>\n",
       "      <td>Japan to “drop tanks” full of Fukushima nuclea...</td>\n",
       "      <td>1</td>\n",
       "      <td>2</td>\n",
       "      <td>unverified</td>\n",
       "    </tr>\n",
       "    <tr>\n",
       "      <th>0</th>\n",
       "      <td>Japan Declare Crisis As Fukushima Reactor Begi...</td>\n",
       "      <td>2</td>\n",
       "      <td>0</td>\n",
       "      <td>false</td>\n",
       "    </tr>\n",
       "    <tr>\n",
       "      <th>0</th>\n",
       "      <td>Academy Award-Winning Actress Sandra Bullock D...</td>\n",
       "      <td>2</td>\n",
       "      <td>1</td>\n",
       "      <td>true</td>\n",
       "    </tr>\n",
       "    <tr>\n",
       "      <th>0</th>\n",
       "      <td>Category 6? If Hurricane Irma Becomes The Stro...</td>\n",
       "      <td>1</td>\n",
       "      <td>0</td>\n",
       "      <td>false</td>\n",
       "    </tr>\n",
       "    <tr>\n",
       "      <th>0</th>\n",
       "      <td>Man who mowed lawn with tornado behind him say...</td>\n",
       "      <td>2</td>\n",
       "      <td>1</td>\n",
       "      <td>true</td>\n",
       "    </tr>\n",
       "    <tr>\n",
       "      <th>0</th>\n",
       "      <td>I bet. You never seen this rare natural phenom...</td>\n",
       "      <td>1</td>\n",
       "      <td>0</td>\n",
       "      <td>false</td>\n",
       "    </tr>\n",
       "    <tr>\n",
       "      <th>0</th>\n",
       "      <td>Is the Mississippi River Going Dry? https://t....</td>\n",
       "      <td>1</td>\n",
       "      <td>0</td>\n",
       "      <td>false</td>\n",
       "    </tr>\n",
       "    <tr>\n",
       "      <th>0</th>\n",
       "      <td>\"National Geographic channel has paid $ 1 mill...</td>\n",
       "      <td>2</td>\n",
       "      <td>0</td>\n",
       "      <td>false</td>\n",
       "    </tr>\n",
       "    <tr>\n",
       "      <th>0</th>\n",
       "      <td>\"@KenyanTraffic: \"National Geographic channel ...</td>\n",
       "      <td>2</td>\n",
       "      <td>0</td>\n",
       "      <td>false</td>\n",
       "    </tr>\n",
       "    <tr>\n",
       "      <th>0</th>\n",
       "      <td>National Geographic channel has paid   $ 1 mil...</td>\n",
       "      <td>2</td>\n",
       "      <td>0</td>\n",
       "      <td>false</td>\n",
       "    </tr>\n",
       "    <tr>\n",
       "      <th>0</th>\n",
       "      <td>National Geographic channel has reportedly pai...</td>\n",
       "      <td>2</td>\n",
       "      <td>0</td>\n",
       "      <td>false</td>\n",
       "    </tr>\n",
       "    <tr>\n",
       "      <th>0</th>\n",
       "      <td>Joel Osteen Sails Luxury Yacht Through Flooded...</td>\n",
       "      <td>2</td>\n",
       "      <td>0</td>\n",
       "      <td>false</td>\n",
       "    </tr>\n",
       "    <tr>\n",
       "      <th>0</th>\n",
       "      <td>Mike Pence Disappointed God Has Never Asked Hi...</td>\n",
       "      <td>2</td>\n",
       "      <td>0</td>\n",
       "      <td>false</td>\n",
       "    </tr>\n",
       "    <tr>\n",
       "      <th>0</th>\n",
       "      <td>Mike Pence Disappointed God Has Never Asked Hi...</td>\n",
       "      <td>2</td>\n",
       "      <td>0</td>\n",
       "      <td>false</td>\n",
       "    </tr>\n",
       "    <tr>\n",
       "      <th>0</th>\n",
       "      <td>Report: Red Cross Was Stealing from Church Doo...</td>\n",
       "      <td>2</td>\n",
       "      <td>0</td>\n",
       "      <td>false</td>\n",
       "    </tr>\n",
       "    <tr>\n",
       "      <th>0</th>\n",
       "      <td>just to start your day.\\n@Jeggit\\nBelieve it o...</td>\n",
       "      <td>1</td>\n",
       "      <td>0</td>\n",
       "      <td>false</td>\n",
       "    </tr>\n",
       "    <tr>\n",
       "      <th>0</th>\n",
       "      <td>But, but, but...looters?\\nVirgin Islands Allow...</td>\n",
       "      <td>0</td>\n",
       "      <td>1</td>\n",
       "      <td>true</td>\n",
       "    </tr>\n",
       "    <tr>\n",
       "      <th>0</th>\n",
       "      <td>Virgin Islands Allows National Guard To Seize ...</td>\n",
       "      <td>0</td>\n",
       "      <td>1</td>\n",
       "      <td>true</td>\n",
       "    </tr>\n",
       "    <tr>\n",
       "      <th>0</th>\n",
       "      <td>ICYMI - Virgin Islands Allows National Guard T...</td>\n",
       "      <td>0</td>\n",
       "      <td>1</td>\n",
       "      <td>true</td>\n",
       "    </tr>\n",
       "    <tr>\n",
       "      <th>0</th>\n",
       "      <td>Virgin Islands Allows National Guard To Seize ...</td>\n",
       "      <td>0</td>\n",
       "      <td>1</td>\n",
       "      <td>true</td>\n",
       "    </tr>\n",
       "  </tbody>\n",
       "</table>\n",
       "</div>"
      ],
      "text/plain": [
       "                                                text  predictions  true  \\\n",
       "0  #Breaking: Pentagon releases video of the “mot...            2     0   \n",
       "0  ICYMI: \"Rep Sheila Jackson Lee (D-Tx) Wants Hu...            2     1   \n",
       "0  In 2003, Houston U.S. Rep. Sheila Jackson Lee ...            2     1   \n",
       "0  Noah’s Ark Theme Park Destroyed in a Flood? ht...            1     0   \n",
       "0  My lasting impression of Barbara Bush was the ...            0     1   \n",
       "0  This is crazy! #CapeTown #capestorm #weatherfo...            1     0   \n",
       "0  Clinton camp delays Weather Channel ad buy aft...            0     1   \n",
       "0  Clinton camp delays Weather Channel ad buy aft...            0     1   \n",
       "0  Clinton camp delays Weather Channel ad buy aft...            0     1   \n",
       "0  REVERSING COURSE: Clinton camp delays Weather ...            0     1   \n",
       "0  Jim Bates actually lives in Puerto Rico\\nThey ...            1     2   \n",
       "0  Japan to “drop tanks” full of Fukushima nuclea...            1     2   \n",
       "0  Japan Declare Crisis As Fukushima Reactor Begi...            2     0   \n",
       "0  Academy Award-Winning Actress Sandra Bullock D...            2     1   \n",
       "0  Category 6? If Hurricane Irma Becomes The Stro...            1     0   \n",
       "0  Man who mowed lawn with tornado behind him say...            2     1   \n",
       "0  I bet. You never seen this rare natural phenom...            1     0   \n",
       "0  Is the Mississippi River Going Dry? https://t....            1     0   \n",
       "0  \"National Geographic channel has paid $ 1 mill...            2     0   \n",
       "0  \"@KenyanTraffic: \"National Geographic channel ...            2     0   \n",
       "0  National Geographic channel has paid   $ 1 mil...            2     0   \n",
       "0  National Geographic channel has reportedly pai...            2     0   \n",
       "0  Joel Osteen Sails Luxury Yacht Through Flooded...            2     0   \n",
       "0  Mike Pence Disappointed God Has Never Asked Hi...            2     0   \n",
       "0  Mike Pence Disappointed God Has Never Asked Hi...            2     0   \n",
       "0  Report: Red Cross Was Stealing from Church Doo...            2     0   \n",
       "0  just to start your day.\\n@Jeggit\\nBelieve it o...            1     0   \n",
       "0  But, but, but...looters?\\nVirgin Islands Allow...            0     1   \n",
       "0  Virgin Islands Allows National Guard To Seize ...            0     1   \n",
       "0  ICYMI - Virgin Islands Allows National Guard T...            0     1   \n",
       "0  Virgin Islands Allows National Guard To Seize ...            0     1   \n",
       "\n",
       "        label  \n",
       "0       false  \n",
       "0        true  \n",
       "0        true  \n",
       "0       false  \n",
       "0        true  \n",
       "0       false  \n",
       "0        true  \n",
       "0        true  \n",
       "0        true  \n",
       "0        true  \n",
       "0  unverified  \n",
       "0  unverified  \n",
       "0       false  \n",
       "0        true  \n",
       "0       false  \n",
       "0        true  \n",
       "0       false  \n",
       "0       false  \n",
       "0       false  \n",
       "0       false  \n",
       "0       false  \n",
       "0       false  \n",
       "0       false  \n",
       "0       false  \n",
       "0       false  \n",
       "0       false  \n",
       "0       false  \n",
       "0        true  \n",
       "0        true  \n",
       "0        true  \n",
       "0        true  "
      ]
     },
     "execution_count": 31,
     "metadata": {},
     "output_type": "execute_result"
    }
   ],
   "source": [
    "wrong_pred_test2 = X_test2_df.loc[~(X_test2_df['predictions'] == X_test2_df['true'])]\n",
    "wrong_pred_test2.to_csv(\"results/misclassifications_test_set2.csv\", sep=\";\")\n",
    "wrong_pred_test2"
   ]
  },
  {
   "cell_type": "code",
   "execution_count": null,
   "id": "5b9222cf-2bfc-4dec-af65-d3feb0acbb40",
   "metadata": {},
   "outputs": [],
   "source": []
  }
 ],
 "metadata": {
  "kernelspec": {
   "display_name": "Python [conda env:rumoureval]",
   "language": "python",
   "name": "conda-env-rumoureval-py"
  },
  "language_info": {
   "codemirror_mode": {
    "name": "ipython",
    "version": 3
   },
   "file_extension": ".py",
   "mimetype": "text/x-python",
   "name": "python",
   "nbconvert_exporter": "python",
   "pygments_lexer": "ipython3",
   "version": "3.10.9"
  }
 },
 "nbformat": 4,
 "nbformat_minor": 5
}
